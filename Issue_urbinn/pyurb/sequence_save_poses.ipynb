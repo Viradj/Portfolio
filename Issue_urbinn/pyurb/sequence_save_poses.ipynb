{
 "cells": [
  {
   "cell_type": "markdown",
   "metadata": {},
   "source": [
    "# Sequence save poses\n",
    "\n",
    "Save a list of poses for an entire sequence for use with full Bundle Adjustment"
   ]
  },
  {
   "cell_type": "code",
   "execution_count": 1,
   "metadata": {
    "collapsed": true
   },
   "outputs": [],
   "source": [
    "# when you change a setting you have to restart the kernel (settings are only loaded once)\n",
    "import os\n",
    "os.environ['STEREO_CONFIDENCE'] = '1.6'\n",
    "os.environ['SEQUENCE_CONFIDENCE'] = '1.6'\n",
    "#os.environ['PATCH_SIZE'] = '17'\n",
    "FRAMECOUNT = 1101\n",
    "\n",
    "import sys\n",
    "sys.path.append('..')\n",
    "from pyurb.urb_kitti import *\n",
    "%matplotlib inline\n",
    "import numpy as np\n",
    "import glob"
   ]
  },
  {
   "cell_type": "markdown",
   "metadata": {},
   "source": [
    "Read the first 10 frames from KITTI sequence 00."
   ]
  },
  {
   "cell_type": "code",
   "execution_count": 3,
   "metadata": {},
   "outputs": [
    {
     "name": "stdout",
     "output_type": "stream",
     "text": [
      "CPU times: user 125 ms, sys: 29.9 ms, total: 155 ms\n",
      "Wall time: 155 ms\n"
     ]
    }
   ],
   "source": [
    "%%time\n",
    "LEFTDIR = '/data/urbinn/datasets/delft-opnames-15-12-2017/temp/left/'\n",
    "RIGHTDIR = '/data/urbinn/datasets/delft-opnames-15-12-2017/temp/right/'\n",
    "\n",
    "frame = []\n",
    "for filename in sorted(glob.glob(LEFTDIR + '/*')):\n",
    "    left_frame = Frame(filename, RIGHTDIR)\n",
    "    frame.append(left_frame)"
   ]
  },
  {
   "cell_type": "markdown",
   "metadata": {},
   "source": [
    "Inspect the FramePoints for the first frame"
   ]
  },
  {
   "cell_type": "markdown",
   "metadata": {},
   "source": [
    "We can also manually compute the Depth of the points and show these"
   ]
  },
  {
   "cell_type": "markdown",
   "metadata": {},
   "source": [
    "Turn the list of frames into a sequence. The first frame is automatically taken as the KeyFrame and its FramePoints are rerieved, depth is estimated, only the most confident points are kept, and they are tracked in the other frames."
   ]
  },
  {
   "cell_type": "code",
   "execution_count": 4,
   "metadata": {},
   "outputs": [
    {
     "name": "stderr",
     "output_type": "stream",
     "text": [
      "100% (25 of 25) |#########################| Elapsed Time: 0:01:08 Time: 0:01:08\n"
     ]
    }
   ],
   "source": [
    "seq = Sequence()\n",
    "for f in ProgressBar()(frame[:25]):\n",
    "    seq.add_frame(f)"
   ]
  },
  {
   "cell_type": "code",
   "execution_count": 4,
   "metadata": {
    "collapsed": true
   },
   "outputs": [],
   "source": [
    "import shutil\n",
    "OUTDIR = 'results'\n",
    "try:\n",
    "    shutil.rmtree(OUTDIR)\n",
    "except:\n",
    "    pass\n",
    "os.mkdir(OUTDIR)\n",
    "keyframes_np = keyframes_to_np(seq.keyframes)\n",
    "mappoints = get_mappoints(seq.keyframes)\n",
    "mappoints_np = mappoints_to_np(mappoints)\n",
    "links_np = links_to_np(mappoints)\n",
    "suffix = '_{}_{}_{}_{}'.format(FRAMECOUNT, PATCH_SIZE, STEREO_CONFIDENCE, SEQUENCE_CONFIDENCE)\n",
    "np.save(OUTDIR + '/mappoints' + suffix, mappoints_np)\n",
    "np.save(OUTDIR + '/links' + suffix, links_np)\n",
    "np.save(OUTDIR + '/keyframes' + suffix, keyframes_np)"
   ]
  },
  {
   "cell_type": "code",
   "execution_count": null,
   "metadata": {
    "collapsed": true
   },
   "outputs": [],
   "source": []
  },
  {
   "cell_type": "code",
   "execution_count": null,
   "metadata": {
    "collapsed": true
   },
   "outputs": [],
   "source": []
  }
 ],
 "metadata": {
  "kernelspec": {
   "display_name": "Python 3",
   "language": "python",
   "name": "python3"
  },
  "language_info": {
   "codemirror_mode": {
    "name": "ipython",
    "version": 3
   },
   "file_extension": ".py",
   "mimetype": "text/x-python",
   "name": "python",
   "nbconvert_exporter": "python",
   "pygments_lexer": "ipython3",
   "version": "3.6.1"
  }
 },
 "nbformat": 4,
 "nbformat_minor": 2
}
